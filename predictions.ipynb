{
 "cells": [
  {
   "cell_type": "markdown",
   "metadata": {},
   "source": [
    "# Crop Recommendation"
   ]
  },
  {
   "cell_type": "code",
   "execution_count": 1,
   "metadata": {},
   "outputs": [
    {
     "name": "stdout",
     "output_type": "stream",
     "text": [
      "prediction_label:  15\n",
      "prediction_crops: \n",
      "muskmelon\n",
      "cucumbers\n"
     ]
    }
   ],
   "source": [
    "from sklearn import metrics\n",
    "from joblib import load \n",
    "import numpy as np\n",
    "\n",
    "model = load(\"lgm.pkl\")\n",
    "# Model Testing\n",
    "\n",
    "# Input 7 datapoints (N,P,K,temperature,humidity,ph,rainfall)\n",
    "x = np.array([[21.5,117.3,76.,7.,12.,31.,5.,]])\n",
    "x = x.reshape(1,-1)\n",
    "p = model.predict(x)\n",
    "print(\"prediction_label: \",p[0])\n",
    "\n",
    "label = {\"crop_label_data\":['rice,wheat,barley','maize,sorghum','chickpea,kidney beans,lima beans',\n",
    "                'kidneybeans' ,'pigeonpeas' ,'mothbeans' ,'mungbean', 'blackgram',\n",
    "                'lentil,acacia' ,'pomegranate' ,'banana,ginger,cardamom',\n",
    "                'mango,papaya,peach' ,'grapes', 'watermelon', 'muskmelon,cucumbers',\n",
    "                'apple,pears,nashi' ,'orange' ,'papaya', 'coconut,nutmeg',\n",
    "                'cotton,Soybeans,Peanuts', 'jute' ,'coffee,chicory'],\n",
    "         \"crop_label_encoded\":[20,11,3,9,18,13,14,2,10,19,1,12,7,21,15,0,16,17,4,6,8,5],\n",
    "         \n",
    "         }\n",
    "\n",
    "p1 = p[0]\n",
    "index_ = label[\"crop_label_encoded\"].index(p1)\n",
    "print(\"prediction_crops: \")\n",
    "# print(label[\"crop_label_data\"][index_].split(\",\"))\n",
    "for i in label[\"crop_label_data\"][index_].split(\",\"):\n",
    "       print(i) \n"
   ]
  },
  {
   "cell_type": "markdown",
   "metadata": {},
   "source": [
    "# Fertilizer Recommendation"
   ]
  },
  {
   "cell_type": "code",
   "execution_count": 2,
   "metadata": {},
   "outputs": [
    {
     "name": "stdout",
     "output_type": "stream",
     "text": [
      "prediction_label:  1\n",
      "prediction_fertilizers: \n",
      "Ammonium sulphate\n",
      "Nitrogen\n"
     ]
    }
   ],
   "source": [
    "from sklearn import metrics\n",
    "from joblib import load\n",
    "\n",
    "model = load(\"lgm1.pkl\")\n",
    "# Model Testing\n",
    "\n",
    "# Input 8 datapoints (N,P,K,temperature,humidity,ph,rainfall,crop_label)\n",
    "\n",
    "x = np.array([[90.,42.,43.,20.87974371,82.00274423,6.50298529,202.9355362,20.]])\n",
    "x = x.reshape(1,-1)\n",
    "p = model.predict(x)\n",
    "print(\"prediction_label: \",p[0])\n",
    "\n",
    "label1 = {\n",
    "         \"fertilizer_data\":['Ammonium sulphate,Nitrogen' ,'UAN', 'Basal fertilizers', 'urea',\n",
    "                'DAP,MAP,SSP' ,'P2O5,K2O' ,'cowdung,organic bloom',\n",
    "                'ammonium sulphate and calcium ammonium nitrate', 'urea,super phosphate',\n",
    "                'urea, ammonium sulfate, calcium nitrate, and ammonium nitrate' ,'FYM',\n",
    "                'Growmore fertiliser,Rose Fertilizer',\n",
    "                'Ammonium Sulfate, Ammonium Phosphate' ,'Manuring',\n",
    "                'DAP,Muriate of Potash ' ,'iron (Fe), boron (B), manganese (Mn)', 'DAP',\n",
    "                'dolomite'],\n",
    "         \"fertilizer_encoded\":[1,10,2,15,4,9,12,11,17,16,6,7,0,8,5,14,3,13]}\n",
    "\n",
    "\n",
    "p1 = p[0]\n",
    "index_ = label1[\"fertilizer_encoded\"].index(p1)\n",
    "print(\"prediction_fertilizers: \")\n",
    "for i in label1[\"fertilizer_data\"][index_].split(\",\"):\n",
    "       print(i) \n"
   ]
  }
 ],
 "metadata": {
  "kernelspec": {
   "display_name": "pyt",
   "language": "python",
   "name": "python3"
  },
  "language_info": {
   "codemirror_mode": {
    "name": "ipython",
    "version": 3
   },
   "file_extension": ".py",
   "mimetype": "text/x-python",
   "name": "python",
   "nbconvert_exporter": "python",
   "pygments_lexer": "ipython3",
   "version": "3.10.9"
  }
 },
 "nbformat": 4,
 "nbformat_minor": 2
}
